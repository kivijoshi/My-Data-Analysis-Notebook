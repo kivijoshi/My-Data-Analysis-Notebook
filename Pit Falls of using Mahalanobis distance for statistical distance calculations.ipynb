{
 "cells": [
  {
   "cell_type": "markdown",
   "metadata": {},
   "source": [
    "### Auther -  Kaustubh Joshi \n",
    "\n",
    "# -------------------------------------------------------------------------------------------------------------"
   ]
  },
  {
   "cell_type": "markdown",
   "metadata": {},
   "source": [
    "# Case Definition - \n",
    "\n",
    "The goal here is basically calculating the statistical distance between two measurements given by two different sensors to determine the association between them. For the sake of definition completion let's use \"SENSOR1\" and \"SENSOR1\" as two sensors"
   ]
  },
  {
   "cell_type": "markdown",
   "metadata": {},
   "source": [
    "# Mahalanobis Distance - \n",
    "\n",
    "-- Taken from wikipedia--\n",
    "\n",
    "The Mahalanobis distance is a measure of the distance between a point P and a distribution D, introduced by P. C. Mahalanobis in 1936.[1] It is a multi-dimensional generalization of the idea of measuring how many standard deviations away P is from the mean of D. This distance is zero if P is at the mean of D, and grows as P moves away from the mean: along each principal component axis, it measures the number of standard deviations from P to the mean of D. If each of these axes is rescaled to have unit variance, then Mahalanobis distance corresponds to standard Euclidean distance in the transformed space. Mahalanobis distance is thus unitless and scale-invariant, and takes into account the correlations of the data set.\n",
    "\n",
    "<img src=\"MahalanobisWiki.jpg\">\n",
    "\n",
    "Here most important point to note is the line stating *\"where si is the standard deviation of the xi and yi over the sample set.\"* . **Mahalanobis distance calculations assume the standard deviations of two distributions are exactly same**. We will come back to this point later in article"
   ]
  },
  {
   "cell_type": "markdown",
   "metadata": {},
   "source": [
    "# Using Mahalanobis Distance Pit Fall - 1\n",
    "\n",
    "Let's say that, SENSOR1 and SENSOR1 are having exact same error distribution (I know it's not the case but let's assume it right now) with covariance matrices COVMAT_SENSOR1 and COVMAT_SENSOR1. Now the first mistake commonly done while calculating Mahalanobis distance is adding these two covariance matrices to get resulting Covariance Matrix.\n",
    "### WRONG!!\n",
    "Its basically avarage. And avarage works out correctly because we have assumed COVMAT_SENSOR1 = COVMat_SENSOR1\n",
    "So, \n",
    "\n",
    "(COVMat_SENSOR1 + COVMAT_SENSOR1)/2 = COVMAT_SENSOR1 = COVMAT_SENSOR1\n",
    "\n",
    "#### Let's prove it experimentally"
   ]
  },
  {
   "cell_type": "code",
   "execution_count": 194,
   "metadata": {
    "collapsed": false
   },
   "outputs": [
    {
     "name": "stdout",
     "output_type": "stream",
     "text": [
      "Mahalanobis distance by adding the covariances = 0.395284707521\n",
      "Mahalanobis distance by avaraging the covariances = 0.559016994375\n"
     ]
    }
   ],
   "source": [
    "import numpy as np\n",
    "get_ipython().magic('matplotlib inline')\n",
    "COVMat_SENSOR1 = np.array([[16, 0], [0, 4]])  ## Covariance matrix of SENSOR1\n",
    "CENTER_SENSOR1 = np.array([0,0]) ## Measurement point from SENSOR1\n",
    "\n",
    "COVMat_SENSOR1 = np.array([[16, 0], [0, 4]])  ## Covariance matrix of SENSOR1\n",
    "CENTER_SENSOR2 = np.array([1,1]) ## Measurement point from SENSOR1\n",
    "\n",
    "## As described here COVMat_SENSOR1 = COVMat_SENSOR1\n",
    "## Let's calculate Mahalanobis distance by adding the Covariance matrices\n",
    "COVMAT_COMBINED = COVMat_SENSOR1 + COVMat_SENSOR1\n",
    "\n",
    "import scipy.spatial.distance\n",
    "\n",
    "Inv_COVMAT_COMBINED = np.linalg.inv(COVMAT_COMBINED)\n",
    "\n",
    "MahalanobisDistance = scipy.spatial.distance.mahalanobis(CENTER_SENSOR1,CENTER_SENSOR2,Inv_COVMAT_COMBINED)\n",
    "\n",
    "print(\"Mahalanobis distance by adding the covariances = \" + str(MahalanobisDistance))\n",
    "\n",
    "## Let's now take avarage and calculate Mahalanobis distance\n",
    "COVMAT_COMBINED = (COVMat_SENSOR1 + COVMat_SENSOR1)/2\n",
    "Inv_COVMAT_COMBINED = np.linalg.inv(COVMAT_COMBINED)\n",
    "MahalanobisDistance = scipy.spatial.distance.mahalanobis(CENTER_SENSOR1,CENTER_SENSOR2,Inv_COVMAT_COMBINED)\n",
    "\n",
    "print(\"Mahalanobis distance by avaraging the covariances = \" + str(MahalanobisDistance))"
   ]
  },
  {
   "cell_type": "markdown",
   "metadata": {},
   "source": [
    "So by adding the covariances the less mahalanobis distance is getting calculated which can result in higher associations in  Algo."
   ]
  },
  {
   "cell_type": "markdown",
   "metadata": {},
   "source": [
    "But still we have not proved which one of these is correct distance. Let's prove that now"
   ]
  },
  {
   "cell_type": "code",
   "execution_count": 195,
   "metadata": {
    "collapsed": false
   },
   "outputs": [
    {
     "name": "stdout",
     "output_type": "stream",
     "text": [
      " Ground Truth Mahalanobis distance  = 0.566409843731\n"
     ]
    }
   ],
   "source": [
    "## Point cloud from sensor1 and sensor2 error distribution\n",
    "SENSOR1_POINTCLOUD = np.random.multivariate_normal(CENTER_SENSOR1, COVMat_SENSOR1, (10000))\n",
    "SENSOR1_POINTCLOUD = np.random.multivariate_normal(CENTER_SENSOR1, COVMat_SENSOR1, (10000))\n",
    "\n",
    "## Let's combine these distributions\n",
    "COMBINED_CLOUD = np.concatenate((SENSOR1_POINTCLOUD, SENSOR1_POINTCLOUD))\n",
    "\n",
    "## Resulting Covariance matrix\n",
    "COVMAT_COMBINED = np.cov(COMBINED_CLOUD.T)\n",
    "\n",
    "## Let's calculate mahalanobis distance\n",
    "Inv_COVMAT_COMBINED = np.linalg.inv(COVMAT_COMBINED)\n",
    "MahalanobisDistance = scipy.spatial.distance.mahalanobis(CENTER_SENSOR1,CENTER_SENSOR2,Inv_COVMAT_COMBINED)\n",
    "print(\" Ground Truth Mahalanobis distance  = \" + str(MahalanobisDistance))\n",
    "\n"
   ]
  },
  {
   "cell_type": "markdown",
   "metadata": {},
   "source": [
    "So, the Mahalanobis distance obtained by avaraging the covariance matrices is matching the ground truth mahalanobis distance. This proves that adding covariance matrices is wrong\n",
    "# CONCLUSION - DO NOT ADD COVARIANCE MATRICES TO GET COMBINED ERROR DISTRIBUTION"
   ]
  },
  {
   "cell_type": "markdown",
   "metadata": {},
   "source": [
    "# Using Mahalanobis Distance Pit Fall - 2\n",
    "\n",
    "As stated at start of the article, for using mahalanobis distance it is necessary to have same standard deviation for both distributions. What happens we ignore this as use mahalanobis distance to calculate the statistical distance? Let's check!"
   ]
  },
  {
   "cell_type": "code",
   "execution_count": 196,
   "metadata": {
    "collapsed": false
   },
   "outputs": [],
   "source": [
    "## CASE - 1 - Two exactly same but non centered distributions\n",
    "COVMat_SENSOR1_1 = np.array([[4, 0], [0, 36]])  ## Covariance matrix of SENSOR1\n",
    "CENTER_SENSOR1_1 = np.array([0,0]) ## Measurement point from SENSOR1\n",
    "\n",
    "COVMat_SENSOR2_1 = np.array([[4, 0], [0, 36]])  ## Covariance matrix of SENSOR1\n",
    "CENTER_SENSOR2_1 = np.array([15,0]) ## Measurement point from SENSOR1\n",
    "\n",
    "COVMAT_COMBINED_CASE_1 = (COVMat_SENSOR1_1 + COVMat_SENSOR2_1)/2\n",
    "\n",
    "## CASE - 2 - Two non similar , non centered distributions\n",
    "COVMat_SENSOR1_2 = np.array([[4, 0], [0, 36]])  ## Covariance matrix of SENSOR1\n",
    "CENTER_SENSOR1_2 = np.array([0,0]) ## Measurement point from SENSOR1\n",
    "\n",
    "COVMat_SENSOR2_2 = np.array([[4, 0], [0, 8]])  ## Covariance matrix of SENSOR1\n",
    "CENTER_SENSOR2_2 = np.array([15,0]) ## Measurement point from SENSOR1\n",
    "\n",
    "COVMAT_COMBINED_CASE_2 = (COVMat_SENSOR1_2 + COVMat_SENSOR2_2)/2\n"
   ]
  },
  {
   "cell_type": "code",
   "execution_count": 197,
   "metadata": {
    "collapsed": false
   },
   "outputs": [
    {
     "data": {
      "text/plain": [
       "<matplotlib.legend.Legend at 0x1157fcf8>"
      ]
     },
     "execution_count": 197,
     "metadata": {},
     "output_type": "execute_result"
    },
    {
     "data": {
      "image/png": "[encoded data removed]",
      "text/plain": [
       "<matplotlib.figure.Figure at 0x1050b5f8>"
      ]
     },
     "metadata": {},
     "output_type": "display_data"
    }
   ],
   "source": [
    "import ErrorEllipse\n",
    "import matplotlib.pyplot as plt\n",
    "import matplotlib.patches as mpatches\n",
    "\n",
    "fig, axs = plt.subplots(1,2)\n",
    "\n",
    "ax=axs[0]\n",
    "ax.set_xlim([-50,50])\n",
    "ax.set_ylim([-50,50])\n",
    "ErrorEllipse.plot_cov_ellipse(COVMat_SENSOR1_1, CENTER_SENSOR1_1,volume=0.99, ax=ax,ec=[0,0,1])\n",
    "plt.plot(CENTER_SENSOR1_1[0],CENTER_SENSOR1_1[1],'ro',color = 'b')\n",
    "\n",
    "ErrorEllipse.plot_cov_ellipse(COVMat_SENSOR2_1, CENTER_SENSOR2_1,volume=0.99, ax=ax,ec=[0,1,0])\n",
    "plt.plot(CENTER_SENSOR2_1[0],CENTER_SENSOR2_1[1],'ro',color = 'g')\n",
    "\n",
    "ErrorEllipse.plot_cov_ellipse(COVMAT_COMBINED_CASE_1, CENTER_SENSOR1_1,volume=0.99, ax=ax,ec=[1,0,0])\n",
    "plt.plot(CENTER_SENSOR1_1[0],CENTER_SENSOR1_1[1],'ro',color = 'r')\n",
    "\n",
    "\n",
    "blue_patch = mpatches.Patch(color='blue', label='SENSOR1 distribution')\n",
    "green_patch = mpatches.Patch(color='green', label='SENSOR1 distribution')\n",
    "red_patch = mpatches.Patch(color='red', label='combined distribution')\n",
    "plt.legend(handles=[blue_patch,green_patch,red_patch])\n",
    "\n",
    "ax=axs[1]\n",
    "ax.set_xlim([-50,50])\n",
    "ax.set_ylim([-50,50])\n",
    "ErrorEllipse.plot_cov_ellipse(COVMat_SENSOR1_2, CENTER_SENSOR1_2,volume=0.99, ax=ax,ec=[0,0,1])\n",
    "plt.plot(CENTER_SENSOR1_2[0],CENTER_SENSOR1_2[1],'ro',color = 'b')\n",
    "\n",
    "ErrorEllipse.plot_cov_ellipse(COVMat_SENSOR2_2, CENTER_SENSOR2_2,volume=0.99, ax=ax,ec=[0,1,0])\n",
    "plt.plot(CENTER_SENSOR2_2[0],CENTER_SENSOR2_2[1],'ro',color = 'g')\n",
    "\n",
    "ErrorEllipse.plot_cov_ellipse(COVMAT_COMBINED_CASE_2, CENTER_SENSOR1_2,volume=0.99, ax=ax,ec=[1,0,0])\n",
    "plt.plot(CENTER_SENSOR1_2[0],CENTER_SENSOR1_2[1],'ro',color = 'r')\n",
    "\n",
    "\n",
    "blue_patch = mpatches.Patch(color='blue', label='SENSOR1 distribution')\n",
    "green_patch = mpatches.Patch(color='green', label='SENSOR1 distribution')\n",
    "red_patch = mpatches.Patch(color='red', label='combined distribution')\n",
    "plt.legend(handles=[blue_patch,green_patch,red_patch])"
   ]
  },
  {
   "cell_type": "markdown",
   "metadata": {},
   "source": [
    "In above example, for case 1, SENSOR 1 DISTRIBUTION = SESNOR 2 DISTRIBUTION, therefor if we take avarage of two covariance matrices the resulting distribution is overlapping the SESNOR 1 DISTRIBUTION. So in diagram you see only two ellipses.\n",
    "Let's calculate Mahalanobis distances"
   ]
  },
  {
   "cell_type": "code",
   "execution_count": 198,
   "metadata": {
    "collapsed": false
   },
   "outputs": [
    {
     "name": "stdout",
     "output_type": "stream",
     "text": [
      " Mahalanobis distance in CASE 1 = 7.5\n",
      " Mahalanobis distance in CASE 2 = 7.5\n"
     ]
    }
   ],
   "source": [
    "## Let's calculate mahalanobis distances\n",
    "\n",
    "Inv_COVMAT_COMBINED = np.linalg.inv(COVMAT_COMBINED_CASE_1)\n",
    "MahalanobisDistance = scipy.spatial.distance.mahalanobis(CENTER_SENSOR1_1,CENTER_SENSOR2_1,Inv_COVMAT_COMBINED)\n",
    "print(\" Mahalanobis distance in CASE 1 = \" + str(MahalanobisDistance))\n",
    "\n",
    "Inv_COVMAT_COMBINED = np.linalg.inv(COVMAT_COMBINED_CASE_2)\n",
    "MahalanobisDistance = scipy.spatial.distance.mahalanobis(CENTER_SENSOR1_2,CENTER_SENSOR2_2,Inv_COVMAT_COMBINED)\n",
    "print(\" Mahalanobis distance in CASE 2 = \" + str(MahalanobisDistance))"
   ]
  },
  {
   "cell_type": "markdown",
   "metadata": {},
   "source": [
    "### Do you see the problem? even if the distribution has changed i.e the overlapping between the distributions has changed the distances remain same. So basically mahalanobis distance is invariant to the overlapping of the distributions. So there is possibility that mahalanobis distance based association decisions can have higher rates."
   ]
  },
  {
   "cell_type": "markdown",
   "metadata": {},
   "source": [
    "# CONCLUSION - DO NOT USE MAHALANOBIS DISTANCE IN CASE OF DISTRIBUTIONS WITH NON SIMILAR COVARAIANC MATRICES"
   ]
  },
  {
   "cell_type": "markdown",
   "metadata": {},
   "source": [
    "# SOLUTION 1- \n",
    "## BHATTACHARYA DISTANCE\n",
    "\n",
    "-- From WIKIPEDIA -- \n",
    "In statistics, the Bhattacharyya distance measures the similarity of two discrete or continuous probability distributions. It is closely related to the Bhattacharyya coefficient which is a measure of the amount of overlap between two statistical samples or populations. Both measures are named after Anil Kumar Bhattacharya, a statistician who worked in the 1930s at the Indian Statistical Institute.[1]\n",
    "The coefficient can be used to determine the relative closeness of the two samples being considered. It is used to measure the separability of classes in classification and it is considered to be more reliable than the Mahalanobis distance, as the Mahalanobis distance is a particular case of the Bhattacharyya distance when the standard deviations of the two classes are the same. **Therefore, when two classes have similar means but different standard deviations, the Mahalanobis distance would tend to zero, however, the Bhattacharyya distance would grow depending on the difference between the standard deviations.**"
   ]
  },
  {
   "cell_type": "markdown",
   "metadata": {},
   "source": [
    "<img src=\"Bhattachrya.JPG\">"
   ]
  },
  {
   "cell_type": "markdown",
   "metadata": {},
   "source": [
    "Let's comapre the results of BHATTACHARYA distance where mahalanobis distance was false"
   ]
  },
  {
   "cell_type": "code",
   "execution_count": 199,
   "metadata": {
    "collapsed": false
   },
   "outputs": [
    {
     "name": "stdout",
     "output_type": "stream",
     "text": [
      "7.03125\n",
      "7.16103110665\n"
     ]
    }
   ],
   "source": [
    "from BhattacharyaDistance import *\n",
    "\n",
    "\n",
    "print(Bhattacharyyadistance(COVMat_SENSOR1_1,CENTER_SENSOR1_1,COVMat_SENSOR2_1,CENTER_SENSOR2_1))\n",
    "print(Bhattacharyyadistance(COVMat_SENSOR1_2,CENTER_SENSOR1_2,COVMat_SENSOR2_2,CENTER_SENSOR2_2))"
   ]
  },
  {
   "cell_type": "markdown",
   "metadata": {
    "collapsed": false
   },
   "source": [
    "### If you look at the results, the distance calculated using \"BhattacharyaDistance\" is higher is second case. This is due to this distance takes into account the overlapping of the distributions\n",
    "\n"
   ]
  },
  {
   "cell_type": "markdown",
   "metadata": {},
   "source": [
    "# SOLUTION 2- \n",
    "## Kullback–Leibler divergence"
   ]
  },
  {
   "cell_type": "code",
   "execution_count": 200,
   "metadata": {
    "collapsed": false
   },
   "outputs": [
    {
     "name": "stdout",
     "output_type": "stream",
     "text": [
      "28.125\n",
      "28.4881498095\n"
     ]
    }
   ],
   "source": [
    "print(KullbackLeibler(COVMat_SENSOR1_1,CENTER_SENSOR1_1,COVMat_SENSOR2_1,CENTER_SENSOR2_1))\n",
    "print(KullbackLeibler(COVMat_SENSOR1_2,CENTER_SENSOR1_2,COVMat_SENSOR2_2,CENTER_SENSOR2_2))"
   ]
  },
  {
   "cell_type": "markdown",
   "metadata": {},
   "source": [
    "### This also produces similar results, so should be favoured than Mahalanobis distance."
   ]
  },
  {
   "cell_type": "markdown",
   "metadata": {},
   "source": [
    "# Thanks for reading\n",
    "## Cheers!"
   ]
  },
  {
   "cell_type": "code",
   "execution_count": null,
   "metadata": {
    "collapsed": true
   },
   "outputs": [],
   "source": []
  }
 ],
 "metadata": {
  "kernelspec": {
   "display_name": "Python 3",
   "language": "python",
   "name": "python3"
  },
  "language_info": {
   "codemirror_mode": {
    "name": "ipython",
    "version": 3
   },
   "file_extension": ".py",
   "mimetype": "text/x-python",
   "name": "python",
   "nbconvert_exporter": "python",
   "pygments_lexer": "ipython3",
   "version": "3.5.2"
  }
 },
 "nbformat": 4,
 "nbformat_minor": 1
}
