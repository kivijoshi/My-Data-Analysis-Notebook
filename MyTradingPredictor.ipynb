{
 "cells": [
  {
   "cell_type": "markdown",
   "metadata": {},
   "source": [
    "# Machine Learning Based Predictor\n"
   ]
  },
  {
   "cell_type": "markdown",
   "metadata": {},
   "source": [
    "## First, Lets get the data. Below is one monthly data from MCX"
   ]
  },
  {
   "cell_type": "code",
   "execution_count": 74,
   "metadata": {
    "collapsed": false
   },
   "outputs": [
    {
     "data": {
      "text/html": [
       "<div>\n",
       "<table border=\"1\" class=\"dataframe\">\n",
       "  <thead>\n",
       "    <tr style=\"text-align: right;\">\n",
       "      <th></th>\n",
       "      <th>OPEN</th>\n",
       "      <th>HIGH</th>\n",
       "      <th>LOW</th>\n",
       "      <th>CLOSE</th>\n",
       "      <th>VOLUME</th>\n",
       "    </tr>\n",
       "  </thead>\n",
       "  <tbody>\n",
       "    <tr>\n",
       "      <th>0</th>\n",
       "      <td>1152.00</td>\n",
       "      <td>1159.00</td>\n",
       "      <td>1152.00</td>\n",
       "      <td>1157.90</td>\n",
       "      <td>4977</td>\n",
       "    </tr>\n",
       "    <tr>\n",
       "      <th>1</th>\n",
       "      <td>1157.00</td>\n",
       "      <td>1158.70</td>\n",
       "      <td>1156.00</td>\n",
       "      <td>1156.00</td>\n",
       "      <td>2765</td>\n",
       "    </tr>\n",
       "    <tr>\n",
       "      <th>2</th>\n",
       "      <td>1156.00</td>\n",
       "      <td>1156.00</td>\n",
       "      <td>1150.40</td>\n",
       "      <td>1154.15</td>\n",
       "      <td>2160</td>\n",
       "    </tr>\n",
       "    <tr>\n",
       "      <th>3</th>\n",
       "      <td>1154.15</td>\n",
       "      <td>1154.35</td>\n",
       "      <td>1153.05</td>\n",
       "      <td>1153.90</td>\n",
       "      <td>780</td>\n",
       "    </tr>\n",
       "    <tr>\n",
       "      <th>4</th>\n",
       "      <td>1153.80</td>\n",
       "      <td>1155.00</td>\n",
       "      <td>1153.20</td>\n",
       "      <td>1154.05</td>\n",
       "      <td>1390</td>\n",
       "    </tr>\n",
       "  </tbody>\n",
       "</table>\n",
       "</div>"
      ],
      "text/plain": [
       "      OPEN     HIGH      LOW    CLOSE  VOLUME\n",
       "0  1152.00  1159.00  1152.00  1157.90    4977\n",
       "1  1157.00  1158.70  1156.00  1156.00    2765\n",
       "2  1156.00  1156.00  1150.40  1154.15    2160\n",
       "3  1154.15  1154.35  1153.05  1153.90     780\n",
       "4  1153.80  1155.00  1153.20  1154.05    1390"
      ]
     },
     "execution_count": 74,
     "metadata": {},
     "output_type": "execute_result"
    }
   ],
   "source": [
    "\n",
    "\n",
    "import pandas as pd\n",
    "\n",
    "data = pd.read_csv('C:\\\\Users\\\\kaust\\\\Downloads\\\\WinPython-64bit-3.5.2.3Qt5\\\\myScripts\\\\MCX_monthlyData.txt')\n",
    "data = data.drop(['DATE'],axis=1)\n",
    "data.head()"
   ]
  },
  {
   "cell_type": "markdown",
   "metadata": {},
   "source": [
    "# Here comes the most interesting part. What we want to build is predictor which will take in as a input the few moving avarages.\n",
    "# The goal of the predictor is to decide when the position can be entered so that the position returns the profit during particular period. \n",
    "\n",
    "Below are moving avarages and return window we are using.\n",
    "\n",
    "1. Moving Avarage 1 = 400 minutes\n",
    "2. Moving Avarage 2 = 120 minutes\n",
    "3. Moving Avarage 3 = 20 minutes\n",
    "4. The time during which position will return profit\n",
    "5. How much minimum profit it should return during above time."
   ]
  },
  {
   "cell_type": "code",
   "execution_count": 75,
   "metadata": {
    "collapsed": false
   },
   "outputs": [
    {
     "data": {
      "text/html": [
       "<div>\n",
       "<table border=\"1\" class=\"dataframe\">\n",
       "  <thead>\n",
       "    <tr style=\"text-align: right;\">\n",
       "      <th></th>\n",
       "      <th>OPEN</th>\n",
       "      <th>HIGH</th>\n",
       "      <th>LOW</th>\n",
       "      <th>CLOSE</th>\n",
       "      <th>VOLUME</th>\n",
       "      <th>Enter</th>\n",
       "      <th>MovingHigh</th>\n",
       "      <th>MovingAvarage</th>\n",
       "      <th>MovingAvarage_2</th>\n",
       "      <th>MovingAvarage_3</th>\n",
       "      <th>MovingLow</th>\n",
       "    </tr>\n",
       "  </thead>\n",
       "  <tbody>\n",
       "    <tr>\n",
       "      <th>0</th>\n",
       "      <td>1152.00</td>\n",
       "      <td>1159.00</td>\n",
       "      <td>1152.00</td>\n",
       "      <td>1157.90</td>\n",
       "      <td>4977</td>\n",
       "      <td>0</td>\n",
       "      <td>99999999.0</td>\n",
       "      <td>99999999.0</td>\n",
       "      <td>99999999.0</td>\n",
       "      <td>99999999.0</td>\n",
       "      <td>99999999.0</td>\n",
       "    </tr>\n",
       "    <tr>\n",
       "      <th>1</th>\n",
       "      <td>1157.00</td>\n",
       "      <td>1158.70</td>\n",
       "      <td>1156.00</td>\n",
       "      <td>1156.00</td>\n",
       "      <td>2765</td>\n",
       "      <td>0</td>\n",
       "      <td>99999999.0</td>\n",
       "      <td>99999999.0</td>\n",
       "      <td>99999999.0</td>\n",
       "      <td>99999999.0</td>\n",
       "      <td>99999999.0</td>\n",
       "    </tr>\n",
       "    <tr>\n",
       "      <th>2</th>\n",
       "      <td>1156.00</td>\n",
       "      <td>1156.00</td>\n",
       "      <td>1150.40</td>\n",
       "      <td>1154.15</td>\n",
       "      <td>2160</td>\n",
       "      <td>0</td>\n",
       "      <td>99999999.0</td>\n",
       "      <td>99999999.0</td>\n",
       "      <td>99999999.0</td>\n",
       "      <td>99999999.0</td>\n",
       "      <td>99999999.0</td>\n",
       "    </tr>\n",
       "    <tr>\n",
       "      <th>3</th>\n",
       "      <td>1154.15</td>\n",
       "      <td>1154.35</td>\n",
       "      <td>1153.05</td>\n",
       "      <td>1153.90</td>\n",
       "      <td>780</td>\n",
       "      <td>0</td>\n",
       "      <td>99999999.0</td>\n",
       "      <td>99999999.0</td>\n",
       "      <td>99999999.0</td>\n",
       "      <td>99999999.0</td>\n",
       "      <td>99999999.0</td>\n",
       "    </tr>\n",
       "    <tr>\n",
       "      <th>4</th>\n",
       "      <td>1153.80</td>\n",
       "      <td>1155.00</td>\n",
       "      <td>1153.20</td>\n",
       "      <td>1154.05</td>\n",
       "      <td>1390</td>\n",
       "      <td>0</td>\n",
       "      <td>99999999.0</td>\n",
       "      <td>99999999.0</td>\n",
       "      <td>99999999.0</td>\n",
       "      <td>99999999.0</td>\n",
       "      <td>99999999.0</td>\n",
       "    </tr>\n",
       "  </tbody>\n",
       "</table>\n",
       "</div>"
      ],
      "text/plain": [
       "      OPEN     HIGH      LOW    CLOSE  VOLUME  Enter  MovingHigh  \\\n",
       "0  1152.00  1159.00  1152.00  1157.90    4977      0  99999999.0   \n",
       "1  1157.00  1158.70  1156.00  1156.00    2765      0  99999999.0   \n",
       "2  1156.00  1156.00  1150.40  1154.15    2160      0  99999999.0   \n",
       "3  1154.15  1154.35  1153.05  1153.90     780      0  99999999.0   \n",
       "4  1153.80  1155.00  1153.20  1154.05    1390      0  99999999.0   \n",
       "\n",
       "   MovingAvarage  MovingAvarage_2  MovingAvarage_3   MovingLow  \n",
       "0     99999999.0       99999999.0       99999999.0  99999999.0  \n",
       "1     99999999.0       99999999.0       99999999.0  99999999.0  \n",
       "2     99999999.0       99999999.0       99999999.0  99999999.0  \n",
       "3     99999999.0       99999999.0       99999999.0  99999999.0  \n",
       "4     99999999.0       99999999.0       99999999.0  99999999.0  "
      ]
     },
     "execution_count": 75,
     "metadata": {},
     "output_type": "execute_result"
    }
   ],
   "source": [
    "\n",
    "last = 9999999\n",
    "MovingHigh = []\n",
    "MovingLow = []\n",
    "MovingAvarage = []\n",
    "MovingAvarage_2 = []\n",
    "MovingAvarage_3 = []\n",
    "window = 400\n",
    "window_2 = 20\n",
    "window_3 = 120\n",
    "windowEnter = 15\n",
    "EnterDifference = 13\n",
    "Enter = []\n",
    "# Up = 1 down = 0\n",
    "for index, row in data.iterrows():\n",
    "   \n",
    "    \n",
    "    if (index+windowEnter <= data.shape[0]):\n",
    "        EnterDiff = [x - row['OPEN'] for x in data['OPEN'][index+1:index+windowEnter]] \n",
    "        if(max(EnterDiff)>=EnterDifference):\n",
    "            Enter.append(1)\n",
    "        else:\n",
    "            Enter.append(0)\n",
    "    else:\n",
    "        Enter.append(0)\n",
    "            \n",
    "    if(index < window):\n",
    "        MovingAvarage.append(99999999)\n",
    "    else:\n",
    "        MovingAvarage.append(data['OPEN'][(index-window):index].mean())\n",
    "        \n",
    "    if(index < window_3):\n",
    "        MovingAvarage_3.append(99999999)\n",
    "    else:\n",
    "        MovingAvarage_3.append(data['OPEN'][(index-window_3):index].mean())\n",
    "        \n",
    "    if(index < window_2):\n",
    "        MovingAvarage_2.append(99999999)\n",
    "        MovingHigh.append(99999999)\n",
    "        MovingLow.append(99999999)\n",
    "    else:\n",
    "        MovingHigh.append(data['HIGH'][(index-window):index].max())\n",
    "        MovingLow.append(data['LOW'][(index-window):index].max())\n",
    "        MovingAvarage_2.append(data['OPEN'][(index-window_2):index].mean())\n",
    "        \n",
    "data['Enter'] = Enter\n",
    "data['MovingHigh'] = MovingHigh\n",
    "data['MovingAvarage'] = MovingAvarage\n",
    "data['MovingAvarage_2'] = MovingAvarage_2\n",
    "data['MovingAvarage_3'] = MovingAvarage_3\n",
    "data['MovingLow'] = MovingLow\n",
    "data.head()"
   ]
  },
  {
   "cell_type": "markdown",
   "metadata": {},
   "source": [
    "## So basically , if u see above we have change the prediction to Binary value. 1 for correct position and 0 for wrong position.\n",
    "\n",
    "## Lets now build the predictor. "
   ]
  },
  {
   "cell_type": "code",
   "execution_count": 76,
   "metadata": {
    "collapsed": false
   },
   "outputs": [],
   "source": [
    "%matplotlib inline\n",
    "\n",
    "import matplotlib.pyplot as plt\n",
    "\n"
   ]
  },
  {
   "cell_type": "code",
   "execution_count": null,
   "metadata": {
    "collapsed": true
   },
   "outputs": [],
   "source": []
  },
  {
   "cell_type": "code",
   "execution_count": 77,
   "metadata": {
    "collapsed": false
   },
   "outputs": [],
   "source": [
    "from sklearn.linear_model import SGDClassifier\n",
    "from sklearn.preprocessing import LabelEncoder\n",
    "from sklearn.model_selection import train_test_split\n",
    "from sklearn.ensemble import RandomForestClassifier,AdaBoostClassifier,GradientBoostingClassifier\n",
    "from sklearn.calibration import CalibratedClassifierCV\n",
    "#import xgboost as xgb\n",
    "from sklearn.model_selection import GridSearchCV\n",
    "from sklearn.model_selection import StratifiedKFold\n",
    "from sklearn.feature_selection import SelectFromModel\n",
    "from sklearn.linear_model import LogisticRegression\n",
    "from sklearn import svm"
   ]
  },
  {
   "cell_type": "code",
   "execution_count": 78,
   "metadata": {
    "collapsed": false
   },
   "outputs": [
    {
     "data": {
      "text/html": [
       "<div>\n",
       "<table border=\"1\" class=\"dataframe\">\n",
       "  <thead>\n",
       "    <tr style=\"text-align: right;\">\n",
       "      <th></th>\n",
       "      <th>OPEN</th>\n",
       "      <th>VOLUME</th>\n",
       "      <th>Enter</th>\n",
       "      <th>MovingHigh</th>\n",
       "      <th>MovingAvarage</th>\n",
       "      <th>MovingAvarage_2</th>\n",
       "      <th>MovingAvarage_3</th>\n",
       "      <th>MovingLow</th>\n",
       "    </tr>\n",
       "  </thead>\n",
       "  <tbody>\n",
       "    <tr>\n",
       "      <th>400</th>\n",
       "      <td>1124.45</td>\n",
       "      <td>1849</td>\n",
       "      <td>0</td>\n",
       "      <td>1159.35</td>\n",
       "      <td>1143.844375</td>\n",
       "      <td>1128.5050</td>\n",
       "      <td>1129.505417</td>\n",
       "      <td>1157.0</td>\n",
       "    </tr>\n",
       "    <tr>\n",
       "      <th>401</th>\n",
       "      <td>1123.50</td>\n",
       "      <td>618</td>\n",
       "      <td>0</td>\n",
       "      <td>1159.35</td>\n",
       "      <td>1143.775500</td>\n",
       "      <td>1127.9525</td>\n",
       "      <td>1129.475833</td>\n",
       "      <td>1157.0</td>\n",
       "    </tr>\n",
       "    <tr>\n",
       "      <th>402</th>\n",
       "      <td>1123.00</td>\n",
       "      <td>403</td>\n",
       "      <td>0</td>\n",
       "      <td>1159.35</td>\n",
       "      <td>1143.691750</td>\n",
       "      <td>1127.4525</td>\n",
       "      <td>1129.437500</td>\n",
       "      <td>1157.0</td>\n",
       "    </tr>\n",
       "    <tr>\n",
       "      <th>403</th>\n",
       "      <td>1123.40</td>\n",
       "      <td>1895</td>\n",
       "      <td>0</td>\n",
       "      <td>1159.35</td>\n",
       "      <td>1143.609250</td>\n",
       "      <td>1126.9025</td>\n",
       "      <td>1129.405000</td>\n",
       "      <td>1157.0</td>\n",
       "    </tr>\n",
       "    <tr>\n",
       "      <th>404</th>\n",
       "      <td>1125.25</td>\n",
       "      <td>1246</td>\n",
       "      <td>0</td>\n",
       "      <td>1159.35</td>\n",
       "      <td>1143.532375</td>\n",
       "      <td>1126.3775</td>\n",
       "      <td>1129.366667</td>\n",
       "      <td>1157.0</td>\n",
       "    </tr>\n",
       "  </tbody>\n",
       "</table>\n",
       "</div>"
      ],
      "text/plain": [
       "        OPEN  VOLUME  Enter  MovingHigh  MovingAvarage  MovingAvarage_2  \\\n",
       "400  1124.45    1849      0     1159.35    1143.844375        1128.5050   \n",
       "401  1123.50     618      0     1159.35    1143.775500        1127.9525   \n",
       "402  1123.00     403      0     1159.35    1143.691750        1127.4525   \n",
       "403  1123.40    1895      0     1159.35    1143.609250        1126.9025   \n",
       "404  1125.25    1246      0     1159.35    1143.532375        1126.3775   \n",
       "\n",
       "     MovingAvarage_3  MovingLow  \n",
       "400      1129.505417     1157.0  \n",
       "401      1129.475833     1157.0  \n",
       "402      1129.437500     1157.0  \n",
       "403      1129.405000     1157.0  \n",
       "404      1129.366667     1157.0  "
      ]
     },
     "execution_count": 78,
     "metadata": {},
     "output_type": "execute_result"
    }
   ],
   "source": [
    "data_copy = data[window:]\n",
    "data_copy = data_copy.drop(['CLOSE','HIGH','LOW'],axis=1)\n",
    "data_copy.head()\n"
   ]
  },
  {
   "cell_type": "code",
   "execution_count": 79,
   "metadata": {
    "collapsed": false
   },
   "outputs": [
    {
     "data": {
      "text/html": [
       "<div>\n",
       "<table border=\"1\" class=\"dataframe\">\n",
       "  <thead>\n",
       "    <tr style=\"text-align: right;\">\n",
       "      <th></th>\n",
       "      <th>OPEN</th>\n",
       "      <th>VOLUME</th>\n",
       "      <th>MovingHigh</th>\n",
       "      <th>MovingAvarage</th>\n",
       "      <th>MovingAvarage_2</th>\n",
       "      <th>MovingAvarage_3</th>\n",
       "      <th>MovingLow</th>\n",
       "    </tr>\n",
       "  </thead>\n",
       "  <tbody>\n",
       "    <tr>\n",
       "      <th>400</th>\n",
       "      <td>1124.45</td>\n",
       "      <td>1849</td>\n",
       "      <td>1159.35</td>\n",
       "      <td>1143.844375</td>\n",
       "      <td>1128.5050</td>\n",
       "      <td>1129.505417</td>\n",
       "      <td>1157.0</td>\n",
       "    </tr>\n",
       "    <tr>\n",
       "      <th>401</th>\n",
       "      <td>1123.50</td>\n",
       "      <td>618</td>\n",
       "      <td>1159.35</td>\n",
       "      <td>1143.775500</td>\n",
       "      <td>1127.9525</td>\n",
       "      <td>1129.475833</td>\n",
       "      <td>1157.0</td>\n",
       "    </tr>\n",
       "    <tr>\n",
       "      <th>402</th>\n",
       "      <td>1123.00</td>\n",
       "      <td>403</td>\n",
       "      <td>1159.35</td>\n",
       "      <td>1143.691750</td>\n",
       "      <td>1127.4525</td>\n",
       "      <td>1129.437500</td>\n",
       "      <td>1157.0</td>\n",
       "    </tr>\n",
       "    <tr>\n",
       "      <th>403</th>\n",
       "      <td>1123.40</td>\n",
       "      <td>1895</td>\n",
       "      <td>1159.35</td>\n",
       "      <td>1143.609250</td>\n",
       "      <td>1126.9025</td>\n",
       "      <td>1129.405000</td>\n",
       "      <td>1157.0</td>\n",
       "    </tr>\n",
       "    <tr>\n",
       "      <th>404</th>\n",
       "      <td>1125.25</td>\n",
       "      <td>1246</td>\n",
       "      <td>1159.35</td>\n",
       "      <td>1143.532375</td>\n",
       "      <td>1126.3775</td>\n",
       "      <td>1129.366667</td>\n",
       "      <td>1157.0</td>\n",
       "    </tr>\n",
       "  </tbody>\n",
       "</table>\n",
       "</div>"
      ],
      "text/plain": [
       "        OPEN  VOLUME  MovingHigh  MovingAvarage  MovingAvarage_2  \\\n",
       "400  1124.45    1849     1159.35    1143.844375        1128.5050   \n",
       "401  1123.50     618     1159.35    1143.775500        1127.9525   \n",
       "402  1123.00     403     1159.35    1143.691750        1127.4525   \n",
       "403  1123.40    1895     1159.35    1143.609250        1126.9025   \n",
       "404  1125.25    1246     1159.35    1143.532375        1126.3775   \n",
       "\n",
       "     MovingAvarage_3  MovingLow  \n",
       "400      1129.505417     1157.0  \n",
       "401      1129.475833     1157.0  \n",
       "402      1129.437500     1157.0  \n",
       "403      1129.405000     1157.0  \n",
       "404      1129.366667     1157.0  "
      ]
     },
     "execution_count": 79,
     "metadata": {},
     "output_type": "execute_result"
    }
   ],
   "source": [
    "y = data_copy['Enter'].values\n",
    "data_copy = data_copy.drop(['Enter'],axis=1)\n",
    "X = data_copy.values\n",
    "data_copy.head()"
   ]
  },
  {
   "cell_type": "markdown",
   "metadata": {},
   "source": [
    "## Below is training mode of the predictor. Here predictor decides how to use below parameters \n",
    "1. OPEN\n",
    "2. VOLUME\n",
    "3. Moving Avarage 1\n",
    "4. Moving Avarage 2\n",
    "5. Moving Avarage 3\n"
   ]
  },
  {
   "cell_type": "code",
   "execution_count": 80,
   "metadata": {
    "collapsed": false
   },
   "outputs": [
    {
     "name": "stdout",
     "output_type": "stream",
     "text": [
      "(3925, 7)\n",
      "(3925, 7)\n"
     ]
    }
   ],
   "source": [
    "#Xtrain, Xtest = X[:int(len(X) * 0.50)], X[int(len(X) * 0.50):] \n",
    "#ytrain, ytest = y[:int(len(y) * 0.50)], y[int(len(y) * 0.50):] \n",
    "Xtrain, Xtest, ytrain, ytest = train_test_split(X, y, test_size=0.50)\n",
    "print(Xtrain.shape)\n",
    "print(Xtest.shape)\n"
   ]
  },
  {
   "cell_type": "markdown",
   "metadata": {},
   "source": [
    "## Now its time to test our predictor."
   ]
  },
  {
   "cell_type": "code",
   "execution_count": 85,
   "metadata": {
    "collapsed": false
   },
   "outputs": [
    {
     "name": "stdout",
     "output_type": "stream",
     "text": [
      "Validation accuracy:  0.992356687898\n"
     ]
    }
   ],
   "source": [
    "\n",
    "\n",
    "gadaboost = GradientBoostingClassifier()\n",
    "gadaboost.fit(Xtrain, ytrain)\n",
    "y_val_l = gadaboost.predict_proba(Xtest)\n",
    "print(\"Validation accuracy: \", sum(pd.DataFrame(y_val_l).idxmax(axis=1).values\n",
    "                                   == ytest)/len(ytest))\n",
    "\n"
   ]
  },
  {
   "cell_type": "markdown",
   "metadata": {},
   "source": [
    "## Dont get too excited, at the end we have to check the false positive and false nagative range"
   ]
  },
  {
   "cell_type": "code",
   "execution_count": 86,
   "metadata": {
    "collapsed": false
   },
   "outputs": [],
   "source": [
    "import pickle\n",
    "with open('C:\\\\Users\\\\kaust\\\\Downloads\\\\WinPython-64bit-3.5.2.3Qt5\\\\myScripts\\\\my_dumped_classifier.pkl', 'wb') as fid:\n",
    "    pickle.dump(gadaboost, fid)    \n"
   ]
  },
  {
   "cell_type": "code",
   "execution_count": 87,
   "metadata": {
    "collapsed": false
   },
   "outputs": [
    {
     "name": "stdout",
     "output_type": "stream",
     "text": [
      "Total Trades = 44\n",
      "Total Matched Trades = 22\n",
      "Total False Positive Trades = 8\n",
      "Total False Negative Trades = 22\n"
     ]
    }
   ],
   "source": [
    "target = open('C:\\\\Users\\\\kaust\\\\Downloads\\\\WinPython-64bit-3.5.2.3Qt5\\\\myScripts\\\\out.txt', 'w')\n",
    "y_pre = pd.DataFrame(y_val_l).idxmax(axis=1).values\n",
    "\n",
    "Total_Trades = 0\n",
    "Total_Matched_Trades = 0\n",
    "Total_False_Positives = 0\n",
    "Total_False_Negatives = 0\n",
    "\n",
    "for i in range(Xtest.shape[0]):\n",
    "    line = str(ytest[i])+','+str(y_pre[i])\n",
    "    target.write(line)\n",
    "    target.write('\\n')\n",
    "    if(ytest[i] == 1):\n",
    "       Total_Trades = Total_Trades + 1\n",
    "    if(ytest[i] == 1 and y_pre[i] == 1):\n",
    "        Total_Matched_Trades = Total_Matched_Trades + 1\n",
    "    if(ytest[i] == 0 and y_pre[i] == 1):\n",
    "        Total_False_Positives = Total_False_Positives + 1\n",
    "    if(ytest[i] == 1 and y_pre[i] == 0):\n",
    "        Total_False_Negatives = Total_False_Negatives + 1\n",
    "target.close()\n",
    "\n",
    "print(\"Total Trades = \"+str(Total_Trades))\n",
    "print(\"Total Matched Trades = \"+str(Total_Matched_Trades))\n",
    "print(\"Total False Positive Trades = \"+str(Total_False_Positives))\n",
    "print(\"Total False Negative Trades = \"+str(Total_False_Negatives))\n"
   ]
  },
  {
   "cell_type": "markdown",
   "metadata": {},
   "source": [
    " ## So , as you can see that this predictor is not good at all, it gives 8 false positive and whoping 22 false negatives."
   ]
  },
  {
   "cell_type": "code",
   "execution_count": 88,
   "metadata": {
    "collapsed": false
   },
   "outputs": [
    {
     "name": "stdout",
     "output_type": "stream",
     "text": [
      "Feature ranking:\n",
      "1. feature 1 VOLUME (0.303253)\n",
      "2. feature 5 MovingAvarage_3 (0.211591)\n",
      "3. feature 4 MovingAvarage_2 (0.211256)\n",
      "4. feature 3 MovingAvarage (0.134678)\n",
      "5. feature 0 OPEN (0.076271)\n",
      "6. feature 2 MovingHigh (0.037919)\n",
      "7. feature 6 MovingLow (0.025033)\n"
     ]
    }
   ],
   "source": [
    "import numpy as np\n",
    "indices = np.argsort(gadaboost.feature_importances_)[::-1]\n",
    "\n",
    "# Print the feature ranking\n",
    "print('Feature ranking:')\n",
    "\n",
    "for f in range(data_copy.shape[1]):\n",
    "    print('%d. feature %d %s (%f)' % (f+1 , indices[f], data_copy.columns[indices[f]],\n",
    "                                      gadaboost.feature_importances_[indices[f]]))"
   ]
  },
  {
   "cell_type": "markdown",
   "metadata": {
    "collapsed": true
   },
   "source": [
    "## Summary - Its just naive attempt to show one of the ways in which ML can be used to build the predictor.  "
   ]
  },
  {
   "cell_type": "code",
   "execution_count": null,
   "metadata": {
    "collapsed": true
   },
   "outputs": [],
   "source": []
  }
 ],
 "metadata": {
  "kernelspec": {
   "display_name": "Python 3",
   "language": "python",
   "name": "python3"
  },
  "language_info": {
   "codemirror_mode": {
    "name": "ipython",
    "version": 3
   },
   "file_extension": ".py",
   "mimetype": "text/x-python",
   "name": "python",
   "nbconvert_exporter": "python",
   "pygments_lexer": "ipython3",
   "version": "3.6.0"
  }
 },
 "nbformat": 4,
 "nbformat_minor": 1
}
